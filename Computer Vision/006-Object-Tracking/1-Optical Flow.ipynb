{
 "cells": [
  {
   "cell_type": "markdown",
   "source": [
    "# Optical Flow\n",
    "\n",
    "Optical flow is the pattern of apparent motion of image objects between two consecutive frames caused by the movement of object or camera.\n",
    "\n",
    "Optical flow analysis has a few assumptions:\n",
    "- The pixel intensities of an object do not change between consecutive frames\n",
    "- Neighbouring pixels have similar motion."
   ],
   "metadata": {
    "collapsed": false,
    "pycharm": {
     "name": "#%% md\n"
    }
   }
  }
 ],
 "metadata": {
  "kernelspec": {
   "display_name": "Python 3",
   "language": "python",
   "name": "python3"
  },
  "language_info": {
   "codemirror_mode": {
    "name": "ipython",
    "version": 2
   },
   "file_extension": ".py",
   "mimetype": "text/x-python",
   "name": "python",
   "nbconvert_exporter": "python",
   "pygments_lexer": "ipython2",
   "version": "2.7.6"
  }
 },
 "nbformat": 4,
 "nbformat_minor": 0
}